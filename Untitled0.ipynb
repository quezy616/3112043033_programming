{
  "nbformat": 4,
  "nbformat_minor": 0,
  "metadata": {
    "colab": {
      "provenance": []
    },
    "kernelspec": {
      "name": "python3",
      "display_name": "Python 3"
    },
    "language_info": {
      "name": "python"
    }
  },
  "cells": [
    {
      "cell_type": "code",
      "execution_count": 1,
      "metadata": {
        "colab": {
          "base_uri": "https://localhost:8080/"
        },
        "id": "2bwvS4ceLbos",
        "outputId": "5c44097d-35a2-4433-c9eb-c80594a7a97f"
      },
      "outputs": [
        {
          "output_type": "stream",
          "name": "stdout",
          "text": [
            "hello,world.\n"
          ]
        }
      ],
      "source": [
        "print(\"hello,world\")"
      ]
    },
    {
      "cell_type": "markdown",
      "source": [
        "hellllllllllo\n"
      ],
      "metadata": {
        "id": "DSZDzXmrMNJp"
      }
    },
    {
      "cell_type": "code",
      "source": [
        "h=float(input(\"YOUR HEIGHT(m)\"))\n",
        "w=float(input(\"YOUR WEIGHT(kg)\"))\n",
        "BMI=w/(h**2)\n",
        "print(f\"your BMI is :{BMI:.2f}\")\n"
      ],
      "metadata": {
        "colab": {
          "base_uri": "https://localhost:8080/"
        },
        "id": "7rFfazbPMPr5",
        "outputId": "b00f49c1-f062-4dd8-b515-b4c0893ef23e"
      },
      "execution_count": 4,
      "outputs": [
        {
          "output_type": "stream",
          "name": "stdout",
          "text": [
            "YOUR HEIGHT(m)1.65\n",
            "YOUR WEIGHT(kg)56\n",
            "your BMI is :20.57\n"
          ]
        }
      ]
    }
  ]
}